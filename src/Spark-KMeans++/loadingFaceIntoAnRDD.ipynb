{
 "cells": [
  {
   "cell_type": "markdown",
   "metadata": {},
   "source": [
    "## Local files\n",
    "\n",
    "### Download\n",
    "\n",
    "Remote working directory can be downloaded with the `--download` parameter:\n",
    "\n",
    "```bash\n",
    "python spark-ec2-helper.py --download\n",
    "```\n",
    "\n",
    "This method will download all files, including the IPython Notebook and files that your program generated on the server (pickle files, etc.).\n",
    "Files will be downloaded to the `./remote_files` directory.\n",
    "\n",
    "### Upload\n",
    "\n",
    "You can upload a single file or all files in a directory with the `--upload` parameter:\n",
    "\n",
    "```bash\n",
    "python spark-ec2-helper.py --upload path/to/a/file\n",
    "python spark-ec2-helper.py --upload path/to/a/directory\n",
    "```\n",
    "\n",
    "If you want to read from a local text file, you can use this method to upload it to the server.\n"
   ]
  },
  {
   "cell_type": "markdown",
   "metadata": {},
   "source": [
    "## S3 files\n",
    "\n",
    "The object `s3helper` is created to help you access S3 files."
   ]
  },
  {
   "cell_type": "code",
   "execution_count": null,
   "metadata": {
    "collapsed": false
   },
   "outputs": [],
   "source": [
    "help(s3helper)"
   ]
  },
  {
   "cell_type": "markdown",
   "metadata": {},
   "source": [
    "To access s3 files, the first step is setting AWS credential."
   ]
  },
  {
   "cell_type": "code",
   "execution_count": null,
   "metadata": {
    "collapsed": false,
    "scrolled": true
   },
   "outputs": [],
   "source": [
    "%cd /root/ipython/AWS-Spark-Cluster/\n",
    "%run Credentials.ipynb"
   ]
  },
  {
   "cell_type": "code",
   "execution_count": null,
   "metadata": {
    "collapsed": false
   },
   "outputs": [],
   "source": [
    "sc.stop()"
   ]
  },
  {
   "cell_type": "code",
   "execution_count": null,
   "metadata": {
    "collapsed": false
   },
   "outputs": [],
   "source": [
    "from pyspark import SparkContext,SparkConf\n",
    "sparkConfig=SparkConf()\n",
    "sparkConfig.set(\"spark.executor.memory\",\"20g\")\n",
    "sparkConfig.set(\"spark.worker.memory\",\"20g\")\n",
    "sparkConfig.set(\"spark.driver.cores\",\"8\")\n",
    "sparkConfig.set(\"spark.python.worker.memory\",\"20g\")\n",
    "sparkConfig.getAll()"
   ]
  },
  {
   "cell_type": "code",
   "execution_count": null,
   "metadata": {
    "collapsed": false
   },
   "outputs": [],
   "source": [
    "sc=SparkContext(conf=sparkConfig)"
   ]
  },
  {
   "cell_type": "code",
   "execution_count": null,
   "metadata": {
    "collapsed": true
   },
   "outputs": [],
   "source": [
    "RDD=sc.parallelize(range(100))"
   ]
  },
  {
   "cell_type": "code",
   "execution_count": null,
   "metadata": {
    "collapsed": false
   },
   "outputs": [],
   "source": [
    "RDD.count()"
   ]
  },
  {
   "cell_type": "code",
   "execution_count": null,
   "metadata": {
    "collapsed": true
   },
   "outputs": [],
   "source": []
  },
  {
   "cell_type": "code",
   "execution_count": null,
   "metadata": {
    "collapsed": false
   },
   "outputs": [],
   "source": [
    "s3helper.set_credential(AWS_ACCESS_KEY_ID, AWS_SECRET_ACCESS_KEY)"
   ]
  },
  {
   "cell_type": "markdown",
   "metadata": {},
   "source": [
    "Then open the bucket that has your files."
   ]
  },
  {
   "cell_type": "code",
   "execution_count": null,
   "metadata": {
    "collapsed": false
   },
   "outputs": [],
   "source": [
    "s3helper.open_bucket('yoav-faces')"
   ]
  },
  {
   "cell_type": "markdown",
   "metadata": {},
   "source": [
    "Now you can list your files in the bucket."
   ]
  },
  {
   "cell_type": "code",
   "execution_count": null,
   "metadata": {
    "collapsed": false
   },
   "outputs": [],
   "source": [
    "print s3helper.ls()\n",
    "filenames=s3helper.ls('output/')\n",
    "filenames[:10]"
   ]
  },
  {
   "cell_type": "code",
   "execution_count": null,
   "metadata": {
    "collapsed": false
   },
   "outputs": [],
   "source": [
    "!mkdir /mnt/output"
   ]
  },
  {
   "cell_type": "code",
   "execution_count": null,
   "metadata": {
    "collapsed": false,
    "scrolled": false
   },
   "outputs": [],
   "source": [
    "%cd /mnt/output\n",
    "s3helper.get_file(filenames[0])\n",
    "!ls -l\n",
    "\n",
    "filename=filenames[0][7:]\n",
    "print filename\n",
    "!tar -xzvf \"$filename\"\n",
    "!ls -l"
   ]
  },
  {
   "cell_type": "code",
   "execution_count": null,
   "metadata": {
    "collapsed": false
   },
   "outputs": [],
   "source": [
    "!ls -l /mnt/output/data1/output/*"
   ]
  },
  {
   "cell_type": "code",
   "execution_count": null,
   "metadata": {
    "collapsed": false
   },
   "outputs": [],
   "source": [
    "from pyspark import StorageLevel\n",
    "StorageLevel.MEMORY_AND_DISK_SER"
   ]
  },
  {
   "cell_type": "code",
   "execution_count": null,
   "metadata": {
    "collapsed": false
   },
   "outputs": [],
   "source": [
    "partition_no=10\n",
    "DATA=sc.parallelize(range(partition_no),partition_no)\n",
    "DATA.persist(StorageLevel.MEMORY_AND_DISK_SER)\n",
    "DATA.count()"
   ]
  },
  {
   "cell_type": "code",
   "execution_count": null,
   "metadata": {
    "collapsed": false,
    "scrolled": false
   },
   "outputs": [],
   "source": [
    "%cd /mnt/output\n",
    "video_names={}\n",
    "video_index=0\n",
    "\n",
    "from sys import getsizeof\n",
    "from glob import glob\n",
    "import pickle\n",
    "import re\n",
    "import numpy as np\n",
    "\n",
    "pattern=re.compile(r'.*/([^/]+)_windows(\\d+)\\.pkl')\n",
    "\n",
    "list=glob('/mnt/output/data1/output/*')\n",
    "for file in list:\n",
    "    match=re.search(pattern,file)\n",
    "    if match:\n",
    "        video_name=match.group(1)\n",
    "        if not video_name in video_names.keys():        \n",
    "            video_names[video_name]=video_index\n",
    "            video_index+=1\n",
    "        video_num=video_names[video_name]\n",
    "        window_num=int(match.group(2))\n",
    "    else:\n",
    "        print 'COULD NOT FIND NUMBER IN',file\n",
    "        continue\n",
    "\n",
    "    In = pickle.load(open(file,'r'))\n",
    "    print window_num,len(In),\n",
    "    Full=[]\n",
    "    for f in In:\n",
    "        descriptor={'video_num':video_num, 'track_num':window_num,\n",
    "                    'frame no':f[0],\n",
    "                    'ulx':f[1],'uly':f[2],'size:':f[3]}\n",
    "        Full.append((descriptor,np.array(f[-1],dtype=np.uint16)))\n",
    "    In=[]\n",
    "    data=data+Full\n",
    "    Full=[]\n",
    "    print window_num,len(list),len(data)\n",
    "print 'size of data=',getsizeof(data)"
   ]
  },
  {
   "cell_type": "code",
   "execution_count": null,
   "metadata": {
    "collapsed": false,
    "scrolled": true
   },
   "outputs": [],
   "source": [
    "type(data), len(data)"
   ]
  },
  {
   "cell_type": "code",
   "execution_count": null,
   "metadata": {
    "collapsed": false
   },
   "outputs": [],
   "source": [
    "data[0]"
   ]
  },
  {
   "cell_type": "code",
   "execution_count": null,
   "metadata": {
    "collapsed": false
   },
   "outputs": [],
   "source": [
    "New=sc.parallelize(data, numSlices=len(data))"
   ]
  },
  {
   "cell_type": "code",
   "execution_count": null,
   "metadata": {
    "collapsed": false
   },
   "outputs": [],
   "source": [
    "New = New.cache()\n",
    "New.count()"
   ]
  },
  {
   "cell_type": "code",
   "execution_count": null,
   "metadata": {
    "collapsed": false
   },
   "outputs": [],
   "source": [
    "from sys import getsizeof\n",
    "print getsizeof(data),getsizeof(data[0][-1])"
   ]
  },
  {
   "cell_type": "code",
   "execution_count": null,
   "metadata": {
    "collapsed": false
   },
   "outputs": [],
   "source": [
    "300*300*2*len(data)"
   ]
  },
  {
   "cell_type": "code",
   "execution_count": null,
   "metadata": {
    "collapsed": false
   },
   "outputs": [],
   "source": [
    "Full[:2]"
   ]
  },
  {
   "cell_type": "code",
   "execution_count": null,
   "metadata": {
    "collapsed": false
   },
   "outputs": [],
   "source": [
    "frame=Full[0][-1]\n",
    "%pylab inline\n",
    "max(ravel(frame))"
   ]
  },
  {
   "cell_type": "code",
   "execution_count": null,
   "metadata": {
    "collapsed": false
   },
   "outputs": [],
   "source": [
    "hist(ravel(frame),bins=100);"
   ]
  },
  {
   "cell_type": "code",
   "execution_count": null,
   "metadata": {
    "collapsed": false,
    "scrolled": true
   },
   "outputs": [],
   "source": [
    "array(frame,dtype=uint16)"
   ]
  },
  {
   "cell_type": "code",
   "execution_count": null,
   "metadata": {
    "collapsed": false
   },
   "outputs": [],
   "source": [
    "match=re.search(pattern,file)\n",
    "if match:\n",
    "    video_name=match.group(1)\n",
    "    window_num=int(match.group(2))\n",
    "else:\n",
    "    print 'COULD NOT FIND NUMBER IN',file\n",
    "video_name,window_num"
   ]
  },
  {
   "cell_type": "code",
   "execution_count": null,
   "metadata": {
    "collapsed": false
   },
   "outputs": [],
   "source": [
    "!df"
   ]
  },
  {
   "cell_type": "markdown",
   "metadata": {},
   "source": [
    "To read the files, you have two options. \n",
    "\n",
    "(1) Get a list of s3 file paths and pass it to Spark."
   ]
  },
  {
   "cell_type": "code",
   "execution_count": null,
   "metadata": {
    "collapsed": false
   },
   "outputs": [],
   "source": [
    "files = s3helper.get_path('/model-feb')\n",
    "print files\n",
    "rdd = sc.textFile(','.join(files))"
   ]
  },
  {
   "cell_type": "markdown",
   "metadata": {},
   "source": [
    "(2) Load S3 files to HDFS and read them from HDFS"
   ]
  },
  {
   "cell_type": "code",
   "execution_count": null,
   "metadata": {
    "collapsed": false
   },
   "outputs": [],
   "source": [
    "files = s3helper.load_path('/model-feb', '/feb')\n",
    "print files\n",
    "rdd = sc.textFile(','.join(files))"
   ]
  },
  {
   "cell_type": "code",
   "execution_count": null,
   "metadata": {
    "collapsed": false
   },
   "outputs": [],
   "source": [
    "rdd.count()"
   ]
  },
  {
   "cell_type": "markdown",
   "metadata": {},
   "source": [
    "## Parquet Files"
   ]
  },
  {
   "cell_type": "code",
   "execution_count": null,
   "metadata": {
    "collapsed": false
   },
   "outputs": [],
   "source": [
    "s3helper.open_bucket(\"mas-dse-public\")\n",
    "\n",
    "files = s3helper.load_path('/Weather/US_Weather.parquet', '/US_Weather.parquet')\n",
    "files[:10]"
   ]
  },
  {
   "cell_type": "code",
   "execution_count": null,
   "metadata": {
    "collapsed": false
   },
   "outputs": [],
   "source": [
    "from pyspark import SparkContext\n",
    "from pyspark.sql import SQLContext\n",
    "\n",
    "sc = SparkContext(master=master_url)\n",
    "sqlContext = SQLContext(sc)"
   ]
  },
  {
   "cell_type": "code",
   "execution_count": null,
   "metadata": {
    "collapsed": false
   },
   "outputs": [],
   "source": [
    "df = sqlContext.sql(\"SELECT station, measurement FROM parquet.`/US_Weather.parquet`\")\n",
    "df.head()"
   ]
  }
 ],
 "metadata": {
  "kernelspec": {
   "display_name": "Python 2",
   "language": "python",
   "name": "python2"
  },
  "language_info": {
   "codemirror_mode": {
    "name": "ipython",
    "version": 2
   },
   "file_extension": ".py",
   "mimetype": "text/x-python",
   "name": "python",
   "nbconvert_exporter": "python",
   "pygments_lexer": "ipython2",
   "version": "2.7.10"
  }
 },
 "nbformat": 4,
 "nbformat_minor": 0
}

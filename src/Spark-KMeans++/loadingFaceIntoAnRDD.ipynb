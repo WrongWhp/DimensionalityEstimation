{
 "cells": [
  {
   "cell_type": "markdown",
   "metadata": {},
   "source": [
    "## Loading many pkl files into an RDD\n",
    "\n",
    "What I am trying to do in this notebook seems easy. Load a bunch of files into an RDD and then save the RDD as a parquet directory.\n",
    "\n",
    "I have ~188 tar files on S3, each holding all of the face frames for a single youtube video. Each tar file contains ~10 pkl files, and each pkl file contains all of the frames for one sequence of faces (200-2000 frames).\n",
    "\n",
    "Each frame is stored as a list in which the last element is a square array (300X300) which holds the grey-levels of the face or 0 if no skin detected, at a 16bit int resolution.\n",
    "\n",
    "\n"
   ]
  },
  {
   "cell_type": "markdown",
   "metadata": {},
   "source": [
    "## S3 files\n",
    "\n",
    "The object `s3helper` is created to help you access S3 files."
   ]
  },
  {
   "cell_type": "code",
   "execution_count": null,
   "metadata": {
    "collapsed": false
   },
   "outputs": [],
   "source": [
    "help(s3helper)"
   ]
  },
  {
   "cell_type": "markdown",
   "metadata": {},
   "source": [
    "To access s3 files, the first step is setting AWS credential."
   ]
  },
  {
   "cell_type": "code",
   "execution_count": 1,
   "metadata": {
    "collapsed": false,
    "scrolled": true
   },
   "outputs": [
    {
     "name": "stdout",
     "output_type": "stream",
     "text": [
      "/root/ipython/AWS-Spark-Cluster\n"
     ]
    }
   ],
   "source": [
    "%cd /root/ipython/AWS-Spark-Cluster/\n",
    "%run Credentials.ipynb"
   ]
  },
  {
   "cell_type": "code",
   "execution_count": 2,
   "metadata": {
    "collapsed": false
   },
   "outputs": [
    {
     "data": {
      "text/plain": [
       "u'/root/ipython/AWS-Spark-Cluster'"
      ]
     },
     "execution_count": 2,
     "metadata": {},
     "output_type": "execute_result"
    }
   ],
   "source": [
    "%pwd"
   ]
  },
  {
   "cell_type": "code",
   "execution_count": 17,
   "metadata": {
    "collapsed": false
   },
   "outputs": [],
   "source": [
    "sc.stop()"
   ]
  },
  {
   "cell_type": "markdown",
   "metadata": {},
   "source": [
    "## Configuration directions\n",
    "taken from [here](http://spark.apache.org/docs/latest/configuration.html)\n",
    "and [here](http://spark.apache.org/docs/1.6.1/configuration.html#memory-management)\n"
   ]
  },
  {
   "cell_type": "code",
   "execution_count": 18,
   "metadata": {
    "collapsed": false
   },
   "outputs": [
    {
     "data": {
      "text/plain": [
       "<pyspark.conf.SparkConf at 0x7fce292d2f10>"
      ]
     },
     "execution_count": 18,
     "metadata": {},
     "output_type": "execute_result"
    }
   ],
   "source": [
    "from pyspark import SparkConf\n",
    "sparkConf=SparkConf()\n",
    "sparkConf.setExecutorEnv(\"spark.driver.memory\",\"40g\")\n",
    "sparkConf.setExecutorEnv(\"spark.driver.maxResultSize\",\"10g\")\n",
    "sparkConf.setExecutorEnv(\"spark.executor.memory\",\"40g\")\n",
    "sparkConf.setExecutorEnv(\"spark.python.worker.memory\",\"10g\")"
   ]
  },
  {
   "cell_type": "markdown",
   "metadata": {},
   "source": [
    "### from stackoverflow\n",
    "This is an answer to a question regarding the error:\n",
    "\n",
    "```\n",
    " Py4JJavaError: An error occurred while calling\n",
    " z:org.apache.spark.api.python.PythonRDD.readRDDFromFile.\n",
    " : java.lang.OutOfMemoryError: Java heap space\n",
    "```\n",
    "\n",
    "I finally solved it by creating a spark-defaults.conf file in apache-spark/1.5.1/libexec/conf/ and adding the following line to it: spark.driver.memory 14g\n",
    "\n",
    "That solved my issue. But then I ran into another issue of \"exceeding max result size of 1024MB\". The solution was to add another line in the file above: spark.dirver.maxResultSize 2g"
   ]
  },
  {
   "cell_type": "code",
   "execution_count": 19,
   "metadata": {
    "collapsed": false
   },
   "outputs": [],
   "source": [
    "from pyspark import SparkContext\n",
    "sc=SparkContext(conf=sparkConf)"
   ]
  },
  {
   "cell_type": "code",
   "execution_count": 20,
   "metadata": {
    "collapsed": true
   },
   "outputs": [],
   "source": [
    "RDD=sc.parallelize(range(100))"
   ]
  },
  {
   "cell_type": "code",
   "execution_count": 21,
   "metadata": {
    "collapsed": false
   },
   "outputs": [
    {
     "data": {
      "text/plain": [
       "100"
      ]
     },
     "execution_count": 21,
     "metadata": {},
     "output_type": "execute_result"
    }
   ],
   "source": [
    "RDD.count()"
   ]
  },
  {
   "cell_type": "code",
   "execution_count": 22,
   "metadata": {
    "collapsed": false
   },
   "outputs": [],
   "source": [
    "s3helper.set_credential(AWS_ACCESS_KEY_ID, AWS_SECRET_ACCESS_KEY)"
   ]
  },
  {
   "cell_type": "markdown",
   "metadata": {},
   "source": [
    "Then open the bucket that has your files."
   ]
  },
  {
   "cell_type": "code",
   "execution_count": 23,
   "metadata": {
    "collapsed": false
   },
   "outputs": [],
   "source": [
    "s3helper.open_bucket('yoav-faces')"
   ]
  },
  {
   "cell_type": "markdown",
   "metadata": {},
   "source": [
    "Now you can list your files in the bucket."
   ]
  },
  {
   "cell_type": "code",
   "execution_count": 10,
   "metadata": {
    "collapsed": false
   },
   "outputs": [
    {
     "name": "stdout",
     "output_type": "stream",
     "text": [
      "[u'faces-avi.tgz', u'otherpkl.tgz', u'output', u'pklfiles2', u'test.txt', u'videos.tgz']\n"
     ]
    },
    {
     "data": {
      "text/plain": [
       "[u\"output/'Homeland' Suffered A Major Intelligence Failure-9IE1mUL1erk_windows.tgz\",\n",
       " u'output/19 Days And Counting-JxQKYgw9G2k_windows.tgz',\n",
       " u'output/A Modest PromPosal For Bernie Sanders-kRsRUIPoW4E_windows.tgz',\n",
       " u'output/A Moment For South Carolina-GDFrVwgicsc_windows.tgz',\n",
       " u'output/A Special Halloween Warning-mkuyOVckB8s_windows.tgz',\n",
       " u'output/A Tahini Bit Of Perspective On Politics-q-cirwvF-SI_windows.tgz',\n",
       " u'output/A Tribute To Glenn Frey-0DaJGhJz7S_windows.tgz',\n",
       " u'output/All You Can Trump Buffet-F5zjVUZA7rY_windows.tgz',\n",
       " u'output/And Now, Some Totally Organic Product Placement, Part 2-ua1jbS-je8I_windows.tgz',\n",
       " u'output/Baby Hitler Is No Match For Jeb!-76MlVLbv1zE_windows.tgz']"
      ]
     },
     "execution_count": 10,
     "metadata": {},
     "output_type": "execute_result"
    }
   ],
   "source": [
    "print s3helper.ls()\n",
    "filenames=s3helper.ls('output/')\n",
    "filenames[:10]"
   ]
  },
  {
   "cell_type": "code",
   "execution_count": 11,
   "metadata": {
    "collapsed": false
   },
   "outputs": [
    {
     "name": "stdout",
     "output_type": "stream",
     "text": [
      "mkdir: cannot create directory `/mnt/output': File exists\r\n"
     ]
    }
   ],
   "source": [
    "!mkdir /mnt/output"
   ]
  },
  {
   "cell_type": "code",
   "execution_count": 12,
   "metadata": {
    "collapsed": false,
    "scrolled": false
   },
   "outputs": [
    {
     "name": "stdout",
     "output_type": "stream",
     "text": [
      "/mnt/output\n",
      "total 251604\n",
      "drwxr-xr-x 3 root root      4096 Jun 18 15:12 data1\n",
      "-rw-r--r-- 1 root root 257636191 Jun 10 20:35 'Homeland' Suffered A Major Intelligence Failure-9IE1mUL1erk_windows.tgz\n"
     ]
    }
   ],
   "source": [
    "%cd /mnt/output\n",
    "s3helper.get_file(filenames[0])\n",
    "!ls -l"
   ]
  },
  {
   "cell_type": "code",
   "execution_count": 20,
   "metadata": {
    "collapsed": false
   },
   "outputs": [
    {
     "name": "stdout",
     "output_type": "stream",
     "text": [
      "'Homeland' Suffered A Major Intelligence Failure-9IE1mUL1erk_windows.tgz\n",
      "data1/output/'Homeland' Suffered A Major Intelligence Failure-9IE1mUL1erk_windows7.pkl\n",
      "data1/output/'Homeland' Suffered A Major Intelligence Failure-9IE1mUL1erk_windows4.pkl\n",
      "data1/output/'Homeland' Suffered A Major Intelligence Failure-9IE1mUL1erk_windows9.pkl\n",
      "data1/output/'Homeland' Suffered A Major Intelligence Failure-9IE1mUL1erk_windows5.pkl\n",
      "data1/output/'Homeland' Suffered A Major Intelligence Failure-9IE1mUL1erk_windows0.pkl\n",
      "data1/output/'Homeland' Suffered A Major Intelligence Failure-9IE1mUL1erk_windows3.pkl\n",
      "data1/output/'Homeland' Suffered A Major Intelligence Failure-9IE1mUL1erk_windows1.pkl\n",
      "data1/output/'Homeland' Suffered A Major Intelligence Failure-9IE1mUL1erk_windows6.pkl\n",
      "data1/output/'Homeland' Suffered A Major Intelligence Failure-9IE1mUL1erk_windows8.pkl\n",
      "data1/output/'Homeland' Suffered A Major Intelligence Failure-9IE1mUL1erk_windows2.pkl\n",
      "total 251604\n",
      "drwxr-xr-x 3 root root      4096 Jun 18 15:12 data1\n",
      "-rw-r--r-- 1 root root 257636191 Jun 10 20:35 'Homeland' Suffered A Major Intelligence Failure-9IE1mUL1erk_windows.tgz\n"
     ]
    }
   ],
   "source": [
    "filename=filenames[0][7:]\n",
    "print filename\n",
    "!tar -xzvf \"$filename\"\n",
    "!ls -l"
   ]
  },
  {
   "cell_type": "code",
   "execution_count": 12,
   "metadata": {
    "collapsed": false
   },
   "outputs": [
    {
     "data": {
      "text/plain": [
       "0"
      ]
     },
     "execution_count": 12,
     "metadata": {},
     "output_type": "execute_result"
    }
   ],
   "source": [
    "DATA=sc.parallelize([])\n",
    "DATA.count()"
   ]
  },
  {
   "cell_type": "code",
   "execution_count": 13,
   "metadata": {
    "collapsed": false
   },
   "outputs": [
    {
     "name": "stdout",
     "output_type": "stream",
     "text": [
      "/mnt/output\n"
     ]
    }
   ],
   "source": [
    "%cd /mnt/output\n",
    "video_names={}\n",
    "video_index=0\n",
    "\n",
    "from glob import glob\n",
    "import pickle\n",
    "import re\n",
    "import numpy as np\n",
    "\n",
    "from pyspark import StorageLevel\n",
    "StLevel=StorageLevel.MEMORY_AND_DISK_SER\n",
    "\n",
    "pattern=re.compile(r'.*/([^/]+)_windows(\\d+)\\.pkl')"
   ]
  },
  {
   "cell_type": "code",
   "execution_count": 14,
   "metadata": {
    "collapsed": false
   },
   "outputs": [
    {
     "name": "stdout",
     "output_type": "stream",
     "text": [
      "10\n"
     ]
    }
   ],
   "source": [
    "list=glob('/mnt/output/data1/output/*')\n",
    "print len(list)\n",
    "data=[]"
   ]
  },
  {
   "cell_type": "code",
   "execution_count": 15,
   "metadata": {
    "collapsed": false,
    "scrolled": true
   },
   "outputs": [
    {
     "name": "stdout",
     "output_type": "stream",
     "text": [
      "5 174 5 10 174\n",
      "2 243 2 10 417\n",
      "7 1373 7 10 1790\n",
      "3 120 3 10 1910\n",
      "4 276 4 10 2186\n",
      "6 633 6 10 2819\n",
      "0 2032 0 10 4851\n",
      "9 1316 9 10 6167\n",
      "1 1224 1 10 7391\n",
      "8 1213 8 10 8604\n"
     ]
    }
   ],
   "source": [
    "for file in list:\n",
    "    match=re.search(pattern,file)\n",
    "    if match:\n",
    "        video_name=match.group(1)\n",
    "        if not video_name in video_names.keys():        \n",
    "            video_names[video_name]=video_index\n",
    "            video_index+=1\n",
    "        video_num=video_names[video_name]\n",
    "        window_num=int(match.group(2))\n",
    "    else:\n",
    "        print 'COULD NOT FIND NUMBER IN',file\n",
    "        continue\n",
    "\n",
    "    In = pickle.load(open(file,'r'))\n",
    "    print window_num,len(In),\n",
    "    Full=[]\n",
    "    for f in In:\n",
    "        descriptor=(video_num, window_num,f[0],f[1],f[2],f[3])\n",
    "        Full.append((descriptor,np.array(f[-1],dtype=np.uint16)))\n",
    "    In=[]\n",
    "    data = data+Full\n",
    "    #New=sc.parallelize(Full)\n",
    "    #DATA=sc.union([DATA,New]).persist(StLevel)\n",
    "    #New.unpersist()\n",
    "    \n",
    "    print window_num,len(list),len(data)"
   ]
  },
  {
   "cell_type": "code",
   "execution_count": 26,
   "metadata": {
    "collapsed": false
   },
   "outputs": [
    {
     "data": {
      "text/plain": [
       "15"
      ]
     },
     "execution_count": 26,
     "metadata": {},
     "output_type": "execute_result"
    }
   ],
   "source": [
    "len(data)*2*30*30/1000000"
   ]
  },
  {
   "cell_type": "code",
   "execution_count": 27,
   "metadata": {
    "collapsed": false
   },
   "outputs": [
    {
     "ename": "Py4JJavaError",
     "evalue": "An error occurred while calling z:org.apache.spark.api.python.PythonRDD.readRDDFromFile.\n: java.lang.OutOfMemoryError: Java heap space\n\tat org.apache.spark.api.python.PythonRDD$.readRDDFromFile(PythonRDD.scala:416)\n\tat org.apache.spark.api.python.PythonRDD.readRDDFromFile(PythonRDD.scala)\n\tat sun.reflect.NativeMethodAccessorImpl.invoke0(Native Method)\n\tat sun.reflect.NativeMethodAccessorImpl.invoke(NativeMethodAccessorImpl.java:57)\n\tat sun.reflect.DelegatingMethodAccessorImpl.invoke(DelegatingMethodAccessorImpl.java:43)\n\tat java.lang.reflect.Method.invoke(Method.java:606)\n\tat py4j.reflection.MethodInvoker.invoke(MethodInvoker.java:231)\n\tat py4j.reflection.ReflectionEngine.invoke(ReflectionEngine.java:381)\n\tat py4j.Gateway.invoke(Gateway.java:259)\n\tat py4j.commands.AbstractCommand.invokeMethod(AbstractCommand.java:133)\n\tat py4j.commands.CallCommand.execute(CallCommand.java:79)\n\tat py4j.GatewayConnection.run(GatewayConnection.java:209)\n\tat java.lang.Thread.run(Thread.java:745)\n",
     "output_type": "error",
     "traceback": [
      "\u001b[1;31m\u001b[0m",
      "\u001b[1;31mPy4JJavaError\u001b[0mTraceback (most recent call last)",
      "\u001b[1;32m<ipython-input-27-e8db1caafd4e>\u001b[0m in \u001b[0;36m<module>\u001b[1;34m()\u001b[0m\n\u001b[1;32m----> 1\u001b[1;33m \u001b[0mDATA\u001b[0m\u001b[1;33m=\u001b[0m\u001b[0msc\u001b[0m\u001b[1;33m.\u001b[0m\u001b[0mparallelize\u001b[0m\u001b[1;33m(\u001b[0m\u001b[0mdata\u001b[0m\u001b[1;33m)\u001b[0m\u001b[1;33m\u001b[0m\u001b[0m\n\u001b[0m",
      "\u001b[1;32m/root/spark/python/pyspark/context.pyc\u001b[0m in \u001b[0;36mparallelize\u001b[1;34m(self, c, numSlices)\u001b[0m\n\u001b[0;32m    437\u001b[0m         \u001b[0mtempFile\u001b[0m\u001b[1;33m.\u001b[0m\u001b[0mclose\u001b[0m\u001b[1;33m(\u001b[0m\u001b[1;33m)\u001b[0m\u001b[1;33m\u001b[0m\u001b[0m\n\u001b[0;32m    438\u001b[0m         \u001b[0mreadRDDFromFile\u001b[0m \u001b[1;33m=\u001b[0m \u001b[0mself\u001b[0m\u001b[1;33m.\u001b[0m\u001b[0m_jvm\u001b[0m\u001b[1;33m.\u001b[0m\u001b[0mPythonRDD\u001b[0m\u001b[1;33m.\u001b[0m\u001b[0mreadRDDFromFile\u001b[0m\u001b[1;33m\u001b[0m\u001b[0m\n\u001b[1;32m--> 439\u001b[1;33m         \u001b[0mjrdd\u001b[0m \u001b[1;33m=\u001b[0m \u001b[0mreadRDDFromFile\u001b[0m\u001b[1;33m(\u001b[0m\u001b[0mself\u001b[0m\u001b[1;33m.\u001b[0m\u001b[0m_jsc\u001b[0m\u001b[1;33m,\u001b[0m \u001b[0mtempFile\u001b[0m\u001b[1;33m.\u001b[0m\u001b[0mname\u001b[0m\u001b[1;33m,\u001b[0m \u001b[0mnumSlices\u001b[0m\u001b[1;33m)\u001b[0m\u001b[1;33m\u001b[0m\u001b[0m\n\u001b[0m\u001b[0;32m    440\u001b[0m         \u001b[1;32mreturn\u001b[0m \u001b[0mRDD\u001b[0m\u001b[1;33m(\u001b[0m\u001b[0mjrdd\u001b[0m\u001b[1;33m,\u001b[0m \u001b[0mself\u001b[0m\u001b[1;33m,\u001b[0m \u001b[0mserializer\u001b[0m\u001b[1;33m)\u001b[0m\u001b[1;33m\u001b[0m\u001b[0m\n\u001b[0;32m    441\u001b[0m \u001b[1;33m\u001b[0m\u001b[0m\n",
      "\u001b[1;32m/root/spark/python/lib/py4j-0.9-src.zip/py4j/java_gateway.py\u001b[0m in \u001b[0;36m__call__\u001b[1;34m(self, *args)\u001b[0m\n\u001b[0;32m    811\u001b[0m         \u001b[0manswer\u001b[0m \u001b[1;33m=\u001b[0m \u001b[0mself\u001b[0m\u001b[1;33m.\u001b[0m\u001b[0mgateway_client\u001b[0m\u001b[1;33m.\u001b[0m\u001b[0msend_command\u001b[0m\u001b[1;33m(\u001b[0m\u001b[0mcommand\u001b[0m\u001b[1;33m)\u001b[0m\u001b[1;33m\u001b[0m\u001b[0m\n\u001b[0;32m    812\u001b[0m         return_value = get_return_value(\n\u001b[1;32m--> 813\u001b[1;33m             answer, self.gateway_client, self.target_id, self.name)\n\u001b[0m\u001b[0;32m    814\u001b[0m \u001b[1;33m\u001b[0m\u001b[0m\n\u001b[0;32m    815\u001b[0m         \u001b[1;32mfor\u001b[0m \u001b[0mtemp_arg\u001b[0m \u001b[1;32min\u001b[0m \u001b[0mtemp_args\u001b[0m\u001b[1;33m:\u001b[0m\u001b[1;33m\u001b[0m\u001b[0m\n",
      "\u001b[1;32m/root/spark/python/lib/py4j-0.9-src.zip/py4j/protocol.py\u001b[0m in \u001b[0;36mget_return_value\u001b[1;34m(answer, gateway_client, target_id, name)\u001b[0m\n\u001b[0;32m    306\u001b[0m                 raise Py4JJavaError(\n\u001b[0;32m    307\u001b[0m                     \u001b[1;34m\"An error occurred while calling {0}{1}{2}.\\n\"\u001b[0m\u001b[1;33m.\u001b[0m\u001b[1;33m\u001b[0m\u001b[0m\n\u001b[1;32m--> 308\u001b[1;33m                     format(target_id, \".\", name), value)\n\u001b[0m\u001b[0;32m    309\u001b[0m             \u001b[1;32melse\u001b[0m\u001b[1;33m:\u001b[0m\u001b[1;33m\u001b[0m\u001b[0m\n\u001b[0;32m    310\u001b[0m                 raise Py4JError(\n",
      "\u001b[1;31mPy4JJavaError\u001b[0m: An error occurred while calling z:org.apache.spark.api.python.PythonRDD.readRDDFromFile.\n: java.lang.OutOfMemoryError: Java heap space\n\tat org.apache.spark.api.python.PythonRDD$.readRDDFromFile(PythonRDD.scala:416)\n\tat org.apache.spark.api.python.PythonRDD.readRDDFromFile(PythonRDD.scala)\n\tat sun.reflect.NativeMethodAccessorImpl.invoke0(Native Method)\n\tat sun.reflect.NativeMethodAccessorImpl.invoke(NativeMethodAccessorImpl.java:57)\n\tat sun.reflect.DelegatingMethodAccessorImpl.invoke(DelegatingMethodAccessorImpl.java:43)\n\tat java.lang.reflect.Method.invoke(Method.java:606)\n\tat py4j.reflection.MethodInvoker.invoke(MethodInvoker.java:231)\n\tat py4j.reflection.ReflectionEngine.invoke(ReflectionEngine.java:381)\n\tat py4j.Gateway.invoke(Gateway.java:259)\n\tat py4j.commands.AbstractCommand.invokeMethod(AbstractCommand.java:133)\n\tat py4j.commands.CallCommand.execute(CallCommand.java:79)\n\tat py4j.GatewayConnection.run(GatewayConnection.java:209)\n\tat java.lang.Thread.run(Thread.java:745)\n"
     ]
    }
   ],
   "source": [
    "DATA=sc.parallelize(data)"
   ]
  },
  {
   "cell_type": "code",
   "execution_count": 29,
   "metadata": {
    "collapsed": true
   },
   "outputs": [],
   "source": [
    "sc._conf.get('spark.driver.memory')"
   ]
  },
  {
   "cell_type": "code",
   "execution_count": 12,
   "metadata": {
    "collapsed": false
   },
   "outputs": [
    {
     "name": "stdout",
     "output_type": "stream",
     "text": [
      " 0 10 2819\n"
     ]
    }
   ],
   "source": [
    "print window_num,len(list),DATA.count()"
   ]
  },
  {
   "cell_type": "code",
   "execution_count": 30,
   "metadata": {
    "collapsed": false
   },
   "outputs": [
    {
     "data": {
      "text/plain": [
       "StorageLevel(True, True, False, False, 1)"
      ]
     },
     "execution_count": 30,
     "metadata": {},
     "output_type": "execute_result"
    }
   ],
   "source": [
    "from pyspark import StorageLevel\n",
    "StLevel=StorageLevel.MEMORY_AND_DISK_SER"
   ]
  },
  {
   "cell_type": "code",
   "execution_count": 13,
   "metadata": {
    "collapsed": true
   },
   "outputs": [],
   "source": [
    "X=sc.parallelize(range(1000))"
   ]
  },
  {
   "cell_type": "code",
   "execution_count": 15,
   "metadata": {
    "collapsed": false
   },
   "outputs": [
    {
     "data": {
      "text/plain": [
       "3819"
      ]
     },
     "execution_count": 15,
     "metadata": {},
     "output_type": "execute_result"
    }
   ],
   "source": [
    "Y=sc.union([X,DATA])\n",
    "Y.count()"
   ]
  },
  {
   "cell_type": "code",
   "execution_count": null,
   "metadata": {
    "collapsed": false
   },
   "outputs": [],
   "source": [
    "A=sc.parallelize([1])\n",
    "B=sc.parallelize([2])\n",
    "A.union(B).collect()"
   ]
  },
  {
   "cell_type": "code",
   "execution_count": null,
   "metadata": {
    "collapsed": false
   },
   "outputs": [],
   "source": [
    "len(Full)"
   ]
  },
  {
   "cell_type": "code",
   "execution_count": null,
   "metadata": {
    "collapsed": false
   },
   "outputs": [],
   "source": [
    "Full[:2]"
   ]
  },
  {
   "cell_type": "code",
   "execution_count": null,
   "metadata": {
    "collapsed": false
   },
   "outputs": [],
   "source": [
    "frame=Full[0][-1]\n",
    "%pylab inline\n",
    "max(ravel(frame))"
   ]
  },
  {
   "cell_type": "code",
   "execution_count": null,
   "metadata": {
    "collapsed": false
   },
   "outputs": [],
   "source": [
    "hist(ravel(frame),bins=100);"
   ]
  },
  {
   "cell_type": "code",
   "execution_count": null,
   "metadata": {
    "collapsed": false,
    "scrolled": true
   },
   "outputs": [],
   "source": [
    "array(frame,dtype=uint16)"
   ]
  },
  {
   "cell_type": "code",
   "execution_count": null,
   "metadata": {
    "collapsed": false
   },
   "outputs": [],
   "source": [
    "match=re.search(pattern,file)\n",
    "if match:\n",
    "    video_name=match.group(1)\n",
    "    window_num=int(match.group(2))\n",
    "else:\n",
    "    print 'COULD NOT FIND NUMBER IN',file\n",
    "video_name,window_num"
   ]
  },
  {
   "cell_type": "code",
   "execution_count": null,
   "metadata": {
    "collapsed": false
   },
   "outputs": [],
   "source": [
    "!df"
   ]
  },
  {
   "cell_type": "markdown",
   "metadata": {},
   "source": [
    "To read the files, you have two options. \n",
    "\n",
    "(1) Get a list of s3 file paths and pass it to Spark."
   ]
  },
  {
   "cell_type": "code",
   "execution_count": null,
   "metadata": {
    "collapsed": false
   },
   "outputs": [],
   "source": [
    "files = s3helper.get_path('/model-feb')\n",
    "print files\n",
    "rdd = sc.textFile(','.join(files))"
   ]
  },
  {
   "cell_type": "markdown",
   "metadata": {},
   "source": [
    "(2) Load S3 files to HDFS and read them from HDFS"
   ]
  },
  {
   "cell_type": "code",
   "execution_count": null,
   "metadata": {
    "collapsed": false
   },
   "outputs": [],
   "source": [
    "files = s3helper.load_path('/model-feb', '/feb')\n",
    "print files\n",
    "rdd = sc.textFile(','.join(files))"
   ]
  },
  {
   "cell_type": "code",
   "execution_count": null,
   "metadata": {
    "collapsed": false
   },
   "outputs": [],
   "source": [
    "rdd.count()"
   ]
  },
  {
   "cell_type": "markdown",
   "metadata": {},
   "source": [
    "## Parquet Files"
   ]
  },
  {
   "cell_type": "code",
   "execution_count": null,
   "metadata": {
    "collapsed": false
   },
   "outputs": [],
   "source": [
    "s3helper.open_bucket(\"mas-dse-public\")\n",
    "\n",
    "files = s3helper.load_path('/Weather/US_Weather.parquet', '/US_Weather.parquet')\n",
    "files[:10]"
   ]
  },
  {
   "cell_type": "code",
   "execution_count": null,
   "metadata": {
    "collapsed": false
   },
   "outputs": [],
   "source": [
    "from pyspark import SparkContext\n",
    "from pyspark.sql import SQLContext\n",
    "\n",
    "sc = SparkContext(master=master_url)\n",
    "sqlContext = SQLContext(sc)"
   ]
  },
  {
   "cell_type": "code",
   "execution_count": null,
   "metadata": {
    "collapsed": false
   },
   "outputs": [],
   "source": [
    "df = sqlContext.sql(\"SELECT station, measurement FROM parquet.`/US_Weather.parquet`\")\n",
    "df.head()"
   ]
  }
 ],
 "metadata": {
  "kernelspec": {
   "display_name": "Python 2",
   "language": "python",
   "name": "python2"
  },
  "language_info": {
   "codemirror_mode": {
    "name": "ipython",
    "version": 2
   },
   "file_extension": ".py",
   "mimetype": "text/x-python",
   "name": "python",
   "nbconvert_exporter": "python",
   "pygments_lexer": "ipython2",
   "version": "2.7.11"
  }
 },
 "nbformat": 4,
 "nbformat_minor": 0
}

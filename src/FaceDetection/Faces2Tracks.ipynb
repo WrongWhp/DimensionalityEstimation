{
 "cells": [
  {
   "cell_type": "code",
   "execution_count": 1,
   "metadata": {
    "collapsed": false,
    "scrolled": false
   },
   "outputs": [
    {
     "name": "stdout",
     "output_type": "stream",
     "text": [
      "################################################## processing ../output/'Homeland' Suffered A Major Intelligence Failure-9IE1mUL1erk_Faces.pkl\n",
      "\n",
      "removed 8200 atypical faces\n",
      "10223 \n",
      "all tracks: 78 long tracks: 10\n",
      "0 3 1 2031\n",
      "mean= [ 712.69325455  130.0388971   145.81880847] std of diffs= [ 2.86356629  2.13889566  2.58099729]\n",
      "1 2486 5 1219\n",
      "mean= [ 724.56521739  149.72764561  145.41509434] std of diffs= [ 2.26379857  2.08124824  2.9059484 ]\n",
      "2 3815 0 243\n",
      "mean= [ 724.83950617  151.64197531  145.65843621] std of diffs= [ 2.40058462  1.98768492  3.14733922]\n",
      "3 4304 0 120\n",
      "mean= [ 768.76666667  114.09166667  146.025     ] std of diffs= [ 2.543513    2.15545809  2.20830999]\n",
      "4 4673 0 276\n",
      "mean= [ 725.80797101  120.80797101  147.70289855] std of diffs= [ 2.07054431  2.31292738  2.65797039]\n",
      "5 4997 16 158\n",
      "mean= [ 715.44303797  134.3164557   140.47468354] std of diffs= [ 2.95947448  3.53773352  3.29537668]\n",
      "6 5171 10 623\n",
      "mean= [ 697.31139647  135.83627608  144.34510433] std of diffs= [ 1.97703704  2.43246313  2.81873102]\n",
      "7 5876 7 1366\n",
      "mean= [ 737.33528551  130.04685212  145.4114202 ] std of diffs= [ 2.37538871  1.97282127  2.5501258 ]\n",
      "8 7532 3 1210\n",
      "mean= [ 716.60330579  128.07768595  147.41157025] std of diffs= [ 2.9180567   2.10422649  3.20643096]\n",
      "9 8756 18 1298\n",
      "mean= [ 728.22496148  128.13328197  146.26117103] std of diffs= [ 3.14827968  2.93968095  3.44162932]\n",
      "\n",
      " smoothing the tracks\n",
      "start end length\n",
      "3 2034 2032\n",
      "2486 3709 1224\n",
      "3815 4057 243\n",
      "4304 4423 120\n",
      "4673 4948 276\n",
      "4997 5170 174\n",
      "5171 5803 633\n",
      "5876 7248 1373\n"
     ]
    },
    {
     "name": "stderr",
     "output_type": "stream",
     "text": [
      "/Users/yoavfreund/anaconda/lib/python2.7/site-packages/numpy/lib/nanfunctions.py:675: RuntimeWarning: Mean of empty slice\n",
      "  warnings.warn(\"Mean of empty slice\", RuntimeWarning)\n"
     ]
    },
    {
     "name": "stdout",
     "output_type": "stream",
     "text": [
      "7532 8744 1213\n",
      "8756 10071 1316\n"
     ]
    }
   ],
   "source": [
    "#%%writefile makeTracks.py\n",
    "def check_position_size(box):\n",
    "    Xpos=1.*(box[0]>400) * 1.*(box[0]<1000)\n",
    "    Ypos=1.*(box)[1]>50 * 1.*(box[1]<220)\n",
    "    Size=1.*(box[2])>130\n",
    "    return Xpos*Ypos*Size\n",
    "\n",
    "def is_match(f1,f2):\n",
    "    diff=max(abs(f1-f2))\n",
    "    return diff<15\n",
    "\n",
    "from numpy import *\n",
    "from glob import glob\n",
    "import pickle\n",
    "\n",
    "for filename in glob('../output/*_Faces.pkl'):\n",
    "    print '#'*50,'processing', filename\n",
    "    Faces =pickle.load(open(filename,'r'))\n",
    "\n",
    "    # remove faces whose parameters are too atypical\n",
    "    GoodFaces=[]\n",
    "    remove=0\n",
    "    for F in Faces:\n",
    "        L=[]\n",
    "        for f in F:\n",
    "            if check_position_size(f):\n",
    "                L.append(f)\n",
    "            else:\n",
    "                remove+=1\n",
    "        GoodFaces.append(L)\n",
    " \n",
    "    print '\\nremoved',remove,'atypical faces'\n",
    "    # Organize Face detections into tracks\n",
    "    Tracks=[]\n",
    "    for i in range(len(GoodFaces)):\n",
    "        print '\\r',i,\n",
    "        F=GoodFaces[i]\n",
    "\n",
    "        for f in F:\n",
    "            attached=False\n",
    "            for track in Tracks:\n",
    "                j,fprev=track[-1]\n",
    "                if i-j<10 and is_match(f,fprev):\n",
    "                    track.append((i,f))\n",
    "                    attached=True\n",
    "                    break\n",
    "            if not attached:\n",
    "                Tracks.append([(i,f)])\n",
    "    all_tracks=len(Tracks)\n",
    "    Tracks=[f for f in Tracks if len(f)>100]\n",
    "    print '\\nall tracks:',all_tracks,'long tracks:',len(Tracks)\n",
    "\n",
    "    #calc some statistics of the tracks\n",
    "    n=0\n",
    "    for track in Tracks:\n",
    "        gaps=0\n",
    "        diffs=[]\n",
    "        for i in range(1,len(track)):\n",
    "            gap=track[i][0]-track[i-1][0]\n",
    "            gaps+=gap-1\n",
    "            diffs.append((track[i][1]-track[i-1][1])/gap)\n",
    "        print n,track[0][0],gaps,len(track)\n",
    "        print 'mean=',mean(stack([t[1] for t in track]),axis=0)[:3],\n",
    "        print 'std of diffs=',std(stack(diffs),axis=0)[:3]\n",
    "        n+=1\n",
    "\n",
    "    #smooth the tracks\n",
    "    k=2\n",
    "    SmoothTracks=[]\n",
    "    print '\\n smoothing the tracks'\n",
    "    print 'start end length'\n",
    "    for track in Tracks:\n",
    "        start=track[0][0]\n",
    "        end=track[-1][0]\n",
    "        length=end-start+1\n",
    "        print start,end,length\n",
    "        Track1=empty([length,5])\n",
    "        Track1[:,:]=nan\n",
    "        #put the entries in track into the array Track1, leaving nan values in the holes\n",
    "        for i in range(len(track)):\n",
    "            index=track[i][0]-start\n",
    "            Track1[index,1:5]=track[i][1]\n",
    "\n",
    "        Track2=empty([length,5])\n",
    "        Track2[:,:]=nan\n",
    "        for i in range(length):\n",
    "            Track2[i][0]=start+i\n",
    "            Track2[i][1:5]=nanmean(Track1[max(i-k,0):min(i+k,length),1:5],axis=0)\n",
    "\n",
    "        Track3=array(Track2,dtype=int16)  \n",
    "\n",
    "        SmoothTracks.append(Track3)\n",
    "    pickle.dump(SmoothTracks,open(filename[:-9]+'Tracks.pkl','w'))\n",
    "    break"
   ]
  },
  {
   "cell_type": "code",
   "execution_count": 3,
   "metadata": {
    "collapsed": false
   },
   "outputs": [
    {
     "name": "stdout",
     "output_type": "stream",
     "text": [
      "-rw-r--r--  1 yoavfreund  staff  735293 Jun  7 15:59 ../output/19 Days And Counting-JxQKYgw9G2k_Faces.pkl\r\n",
      "-rw-r--r--  1 yoavfreund  staff  256327 Jun  9 08:31 ../output/19 Days And Counting-JxQKYgw9G2k_Tracks.pkl\r\n"
     ]
    }
   ],
   "source": [
    "!ls -l ../output/19\\ Days\\ And\\ Counting-JxQKYgw9G2k*.pkl"
   ]
  },
  {
   "cell_type": "code",
   "execution_count": 3,
   "metadata": {
    "collapsed": false
   },
   "outputs": [
    {
     "data": {
      "text/plain": [
       "10224"
      ]
     },
     "execution_count": 3,
     "metadata": {},
     "output_type": "execute_result"
    }
   ],
   "source": [
    "len(Faces)"
   ]
  },
  {
   "cell_type": "code",
   "execution_count": 4,
   "metadata": {
    "collapsed": false
   },
   "outputs": [
    {
     "data": {
      "text/plain": [
       "[(),\n",
       " (),\n",
       " (),\n",
       " array([[568, 132, 154, 154]], dtype=int32),\n",
       " array([[563, 130, 161, 161]], dtype=int32),\n",
       " array([[568, 135, 150, 150]], dtype=int32),\n",
       " array([[571, 136, 147, 147]], dtype=int32),\n",
       " array([[570, 134, 148, 148]], dtype=int32),\n",
       " array([[567, 134, 149, 149]], dtype=int32),\n",
       " array([[567, 133, 149, 149]], dtype=int32)]"
      ]
     },
     "execution_count": 4,
     "metadata": {},
     "output_type": "execute_result"
    }
   ],
   "source": [
    "Faces[:10]"
   ]
  },
  {
   "cell_type": "code",
   "execution_count": 10,
   "metadata": {
    "collapsed": false
   },
   "outputs": [
    {
     "data": {
      "text/plain": [
       "array([[  3, 565, 131, 157, 157],\n",
       "       [  4, 566, 132, 155, 155],\n",
       "       [  5, 567, 133, 153, 153],\n",
       "       [  6, 568, 133, 151, 151],\n",
       "       [  7, 569, 134, 148, 148],\n",
       "       [  8, 568, 134, 148, 148],\n",
       "       [  9, 567, 133, 148, 148],\n",
       "       [ 10, 566, 134, 147, 147],\n",
       "       [ 11, 565, 134, 146, 146],\n",
       "       [ 12, 564, 134, 146, 146]], dtype=int16)"
      ]
     },
     "execution_count": 10,
     "metadata": {},
     "output_type": "execute_result"
    }
   ],
   "source": [
    "track=SmoothTracks[0]\n",
    "track[:10]"
   ]
  },
  {
   "cell_type": "code",
   "execution_count": 2,
   "metadata": {
    "collapsed": true
   },
   "outputs": [],
   "source": [
    "stack?"
   ]
  },
  {
   "cell_type": "code",
   "execution_count": null,
   "metadata": {
    "collapsed": true
   },
   "outputs": [],
   "source": []
  }
 ],
 "metadata": {
  "kernelspec": {
   "display_name": "Python 2",
   "language": "python",
   "name": "python2"
  },
  "language_info": {
   "codemirror_mode": {
    "name": "ipython",
    "version": 2
   },
   "file_extension": ".py",
   "mimetype": "text/x-python",
   "name": "python",
   "nbconvert_exporter": "python",
   "pygments_lexer": "ipython2",
   "version": "2.7.11"
  }
 },
 "nbformat": 4,
 "nbformat_minor": 0
}

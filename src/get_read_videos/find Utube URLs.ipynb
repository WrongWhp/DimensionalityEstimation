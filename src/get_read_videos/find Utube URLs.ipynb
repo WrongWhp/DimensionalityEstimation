{
 "cells": [
  {
   "cell_type": "markdown",
   "metadata": {},
   "source": [
    "### Goal\n",
    "The goal of this notebook is to scrape a list of url to u-tube videos of colbert speaking\n",
    "in his late-night show.\n",
    "\n",
    "The HTML was downloaded from : https://www.youtube.com/playlist?list=PLiZxWe0ejyv_hCE-YYaG1NtxjlIvQsG7T\n"
   ]
  },
  {
   "cell_type": "code",
   "execution_count": 2,
   "metadata": {
    "collapsed": false
   },
   "outputs": [],
   "source": [
    "H=open('FromTheDesk.html','r').readlines()"
   ]
  },
  {
   "cell_type": "code",
   "execution_count": 34,
   "metadata": {
    "collapsed": false
   },
   "outputs": [],
   "source": [
    "import re\n",
    "P=re.compile('href=\\\"(/watch\\?v=[^\"]*)\\\"')"
   ]
  },
  {
   "cell_type": "code",
   "execution_count": 35,
   "metadata": {
    "collapsed": false
   },
   "outputs": [
    {
     "data": {
      "text/plain": [
       "5186"
      ]
     },
     "execution_count": 35,
     "metadata": {},
     "output_type": "execute_result"
    }
   ],
   "source": [
    "len(H)"
   ]
  },
  {
   "cell_type": "code",
   "execution_count": 36,
   "metadata": {
    "collapsed": false
   },
   "outputs": [
    {
     "name": "stdout",
     "output_type": "stream",
     "text": [
      "/watch?v=V2ND2suEhSE&amp;list=PLiZxWe0ejyv_hCE-YYaG1NtxjlIvQsG7T\n",
      "/watch?v=V2ND2suEhSE&amp;list=PLiZxWe0ejyv_hCE-YYaG1NtxjlIvQsG7T\n",
      "/watch?v=V2ND2suEhSE&amp;list=PLiZxWe0ejyv_hCE-YYaG1NtxjlIvQsG7T&amp;index=1\n",
      "/watch?v=V2ND2suEhSE&amp;list=PLiZxWe0ejyv_hCE-YYaG1NtxjlIvQsG7T&amp;index=1\n",
      "/watch?v=O4txobgrUYs&amp;list=PLiZxWe0ejyv_hCE-YYaG1NtxjlIvQsG7T&amp;index=2\n",
      "/watch?v=O4txobgrUYs&amp;list=PLiZxWe0ejyv_hCE-YYaG1NtxjlIvQsG7T&amp;index=2\n",
      "/watch?v=425T7Pn3fy4&amp;list=PLiZxWe0ejyv_hCE-YYaG1NtxjlIvQsG7T&amp;index=3\n",
      "/watch?v=425T7Pn3fy4&amp;list=PLiZxWe0ejyv_hCE-YYaG1NtxjlIvQsG7T&amp;index=3\n",
      "/watch?v=muBZk76UuRk&amp;list=PLiZxWe0ejyv_hCE-YYaG1NtxjlIvQsG7T&amp;index=4\n",
      "/watch?v=muBZk76UuRk&amp;list=PLiZxWe0ejyv_hCE-YYaG1NtxjlIvQsG7T&amp;index=4\n",
      "/watch?v=aAYEgf2It2c&amp;list=PLiZxWe0ejyv_hCE-YYaG1NtxjlIvQsG7T&amp;index=5\n",
      "/watch?v=aAYEgf2It2c&amp;list=PLiZxWe0ejyv_hCE-YYaG1NtxjlIvQsG7T&amp;index=5\n",
      "/watch?v=fTnlm2cEyQU&amp;list=PLiZxWe0ejyv_hCE-YYaG1NtxjlIvQsG7T&amp;index=6\n",
      "/watch?v=fTnlm2cEyQU&amp;list=PLiZxWe0ejyv_hCE-YYaG1NtxjlIvQsG7T&amp;index=6\n",
      "/watch?v=2hCg7Vf0D-M&amp;list=PLiZxWe0ejyv_hCE-YYaG1NtxjlIvQsG7T&amp;index=7\n",
      "/watch?v=2hCg7Vf0D-M&amp;list=PLiZxWe0ejyv_hCE-YYaG1NtxjlIvQsG7T&amp;index=7\n",
      "/watch?v=37-pPk0bJ-o&amp;list=PLiZxWe0ejyv_hCE-YYaG1NtxjlIvQsG7T&amp;index=8\n",
      "/watch?v=37-pPk0bJ-o&amp;list=PLiZxWe0ejyv_hCE-YYaG1NtxjlIvQsG7T&amp;index=8\n",
      "/watch?v=wgW2KLJayxI&amp;list=PLiZxWe0ejyv_hCE-YYaG1NtxjlIvQsG7T&amp;index=9\n",
      "/watch?v=wgW2KLJayxI&amp;list=PLiZxWe0ejyv_hCE-YYaG1NtxjlIvQsG7T&amp;index=9\n",
      "/watch?v=clOwTqLHUmM&amp;list=PLiZxWe0ejyv_hCE-YYaG1NtxjlIvQsG7T&amp;index=10\n",
      "/watch?v=clOwTqLHUmM&amp;list=PLiZxWe0ejyv_hCE-YYaG1NtxjlIvQsG7T&amp;index=10\n",
      "/watch?v=8nZWWYtDucw&amp;list=PLiZxWe0ejyv_hCE-YYaG1NtxjlIvQsG7T&amp;index=11\n",
      "/watch?v=8nZWWYtDucw&amp;list=PLiZxWe0ejyv_hCE-YYaG1NtxjlIvQsG7T&amp;index=11\n",
      "/watch?v=aMw03Y2ybLo&amp;list=PLiZxWe0ejyv_hCE-YYaG1NtxjlIvQsG7T&amp;index=12\n",
      "/watch?v=aMw03Y2ybLo&amp;list=PLiZxWe0ejyv_hCE-YYaG1NtxjlIvQsG7T&amp;index=12\n",
      "/watch?v=XXom9FLygzQ&amp;list=PLiZxWe0ejyv_hCE-YYaG1NtxjlIvQsG7T&amp;index=13\n",
      "/watch?v=XXom9FLygzQ&amp;list=PLiZxWe0ejyv_hCE-YYaG1NtxjlIvQsG7T&amp;index=13\n",
      "/watch?v=Bi8Wcos55Rs&amp;list=PLiZxWe0ejyv_hCE-YYaG1NtxjlIvQsG7T&amp;index=14\n",
      "/watch?v=Bi8Wcos55Rs&amp;list=PLiZxWe0ejyv_hCE-YYaG1NtxjlIvQsG7T&amp;index=14\n",
      "/watch?v=ZFvLqV8C5y0&amp;list=PLiZxWe0ejyv_hCE-YYaG1NtxjlIvQsG7T&amp;index=15\n",
      "/watch?v=ZFvLqV8C5y0&amp;list=PLiZxWe0ejyv_hCE-YYaG1NtxjlIvQsG7T&amp;index=15\n",
      "/watch?v=hvRU_Y2VWAg&amp;list=PLiZxWe0ejyv_hCE-YYaG1NtxjlIvQsG7T&amp;index=16\n",
      "/watch?v=hvRU_Y2VWAg&amp;list=PLiZxWe0ejyv_hCE-YYaG1NtxjlIvQsG7T&amp;index=16\n",
      "/watch?v=aMTGpcASAHw&amp;list=PLiZxWe0ejyv_hCE-YYaG1NtxjlIvQsG7T&amp;index=17\n",
      "/watch?v=aMTGpcASAHw&amp;list=PLiZxWe0ejyv_hCE-YYaG1NtxjlIvQsG7T&amp;index=17\n",
      "/watch?v=qP433ek0Z14&amp;list=PLiZxWe0ejyv_hCE-YYaG1NtxjlIvQsG7T&amp;index=18\n",
      "/watch?v=qP433ek0Z14&amp;list=PLiZxWe0ejyv_hCE-YYaG1NtxjlIvQsG7T&amp;index=18\n",
      "/watch?v=pRb6Ztzo1Aw&amp;list=PLiZxWe0ejyv_hCE-YYaG1NtxjlIvQsG7T&amp;index=19\n",
      "/watch?v=pRb6Ztzo1Aw&amp;list=PLiZxWe0ejyv_hCE-YYaG1NtxjlIvQsG7T&amp;index=19\n",
      "/watch?v=_iQCq_Bdlr8&amp;list=PLiZxWe0ejyv_hCE-YYaG1NtxjlIvQsG7T&amp;index=20\n",
      "/watch?v=_iQCq_Bdlr8&amp;list=PLiZxWe0ejyv_hCE-YYaG1NtxjlIvQsG7T&amp;index=20\n",
      "/watch?v=dz2gZDnWl6Q&amp;list=PLiZxWe0ejyv_hCE-YYaG1NtxjlIvQsG7T&amp;index=21\n",
      "/watch?v=dz2gZDnWl6Q&amp;list=PLiZxWe0ejyv_hCE-YYaG1NtxjlIvQsG7T&amp;index=21\n",
      "/watch?v=V2j5DjWKhYQ&amp;list=PLiZxWe0ejyv_hCE-YYaG1NtxjlIvQsG7T&amp;index=22\n",
      "/watch?v=V2j5DjWKhYQ&amp;list=PLiZxWe0ejyv_hCE-YYaG1NtxjlIvQsG7T&amp;index=22\n",
      "/watch?v=euCGw71nlgY&amp;list=PLiZxWe0ejyv_hCE-YYaG1NtxjlIvQsG7T&amp;index=23\n",
      "/watch?v=euCGw71nlgY&amp;list=PLiZxWe0ejyv_hCE-YYaG1NtxjlIvQsG7T&amp;index=23\n",
      "/watch?v=Bjp-ocbzefQ&amp;list=PLiZxWe0ejyv_hCE-YYaG1NtxjlIvQsG7T&amp;index=24\n",
      "/watch?v=Bjp-ocbzefQ&amp;list=PLiZxWe0ejyv_hCE-YYaG1NtxjlIvQsG7T&amp;index=24\n",
      "/watch?v=nPATU4Bz9fw&amp;list=PLiZxWe0ejyv_hCE-YYaG1NtxjlIvQsG7T&amp;index=25\n",
      "/watch?v=nPATU4Bz9fw&amp;list=PLiZxWe0ejyv_hCE-YYaG1NtxjlIvQsG7T&amp;index=25\n",
      "/watch?v=WuUcpIsf6yU&amp;list=PLiZxWe0ejyv_hCE-YYaG1NtxjlIvQsG7T&amp;index=26\n",
      "/watch?v=WuUcpIsf6yU&amp;list=PLiZxWe0ejyv_hCE-YYaG1NtxjlIvQsG7T&amp;index=26\n",
      "/watch?v=i9nhny0GuTs&amp;list=PLiZxWe0ejyv_hCE-YYaG1NtxjlIvQsG7T&amp;index=27\n",
      "/watch?v=i9nhny0GuTs&amp;list=PLiZxWe0ejyv_hCE-YYaG1NtxjlIvQsG7T&amp;index=27\n",
      "/watch?v=ER4b2jcuwBg&amp;list=PLiZxWe0ejyv_hCE-YYaG1NtxjlIvQsG7T&amp;index=28\n",
      "/watch?v=ER4b2jcuwBg&amp;list=PLiZxWe0ejyv_hCE-YYaG1NtxjlIvQsG7T&amp;index=28\n",
      "/watch?v=PKFzRl2qH8Y&amp;list=PLiZxWe0ejyv_hCE-YYaG1NtxjlIvQsG7T&amp;index=29\n",
      "/watch?v=PKFzRl2qH8Y&amp;list=PLiZxWe0ejyv_hCE-YYaG1NtxjlIvQsG7T&amp;index=29\n",
      "/watch?v=oPFP77fCQJs&amp;list=PLiZxWe0ejyv_hCE-YYaG1NtxjlIvQsG7T&amp;index=30\n",
      "/watch?v=oPFP77fCQJs&amp;list=PLiZxWe0ejyv_hCE-YYaG1NtxjlIvQsG7T&amp;index=30\n",
      "/watch?v=wi6qRROsp1o&amp;list=PLiZxWe0ejyv_hCE-YYaG1NtxjlIvQsG7T&amp;index=31\n",
      "/watch?v=wi6qRROsp1o&amp;list=PLiZxWe0ejyv_hCE-YYaG1NtxjlIvQsG7T&amp;index=31\n",
      "/watch?v=OzzJZoaAefo&amp;list=PLiZxWe0ejyv_hCE-YYaG1NtxjlIvQsG7T&amp;index=32\n",
      "/watch?v=OzzJZoaAefo&amp;list=PLiZxWe0ejyv_hCE-YYaG1NtxjlIvQsG7T&amp;index=32\n",
      "/watch?v=aPS1H-GVU6A&amp;list=PLiZxWe0ejyv_hCE-YYaG1NtxjlIvQsG7T&amp;index=33\n",
      "/watch?v=aPS1H-GVU6A&amp;list=PLiZxWe0ejyv_hCE-YYaG1NtxjlIvQsG7T&amp;index=33\n",
      "/watch?v=9cKYm7C2-3M&amp;list=PLiZxWe0ejyv_hCE-YYaG1NtxjlIvQsG7T&amp;index=34\n",
      "/watch?v=9cKYm7C2-3M&amp;list=PLiZxWe0ejyv_hCE-YYaG1NtxjlIvQsG7T&amp;index=34\n",
      "/watch?v=5K-Lyq4kLLQ&amp;list=PLiZxWe0ejyv_hCE-YYaG1NtxjlIvQsG7T&amp;index=35\n",
      "/watch?v=5K-Lyq4kLLQ&amp;list=PLiZxWe0ejyv_hCE-YYaG1NtxjlIvQsG7T&amp;index=35\n",
      "/watch?v=Lh7FFs2Lqms&amp;list=PLiZxWe0ejyv_hCE-YYaG1NtxjlIvQsG7T&amp;index=36\n",
      "/watch?v=Lh7FFs2Lqms&amp;list=PLiZxWe0ejyv_hCE-YYaG1NtxjlIvQsG7T&amp;index=36\n",
      "/watch?v=nWwFbQRPGGw&amp;list=PLiZxWe0ejyv_hCE-YYaG1NtxjlIvQsG7T&amp;index=37\n",
      "/watch?v=nWwFbQRPGGw&amp;list=PLiZxWe0ejyv_hCE-YYaG1NtxjlIvQsG7T&amp;index=37\n",
      "/watch?v=f9WwC8Olc6A&amp;list=PLiZxWe0ejyv_hCE-YYaG1NtxjlIvQsG7T&amp;index=38\n",
      "/watch?v=f9WwC8Olc6A&amp;list=PLiZxWe0ejyv_hCE-YYaG1NtxjlIvQsG7T&amp;index=38\n",
      "/watch?v=p3_EKmdmxg8&amp;list=PLiZxWe0ejyv_hCE-YYaG1NtxjlIvQsG7T&amp;index=39\n",
      "/watch?v=p3_EKmdmxg8&amp;list=PLiZxWe0ejyv_hCE-YYaG1NtxjlIvQsG7T&amp;index=39\n",
      "/watch?v=2B9PUiVL0cc&amp;list=PLiZxWe0ejyv_hCE-YYaG1NtxjlIvQsG7T&amp;index=40\n",
      "/watch?v=2B9PUiVL0cc&amp;list=PLiZxWe0ejyv_hCE-YYaG1NtxjlIvQsG7T&amp;index=40\n",
      "/watch?v=3m50EE8jeZA&amp;list=PLiZxWe0ejyv_hCE-YYaG1NtxjlIvQsG7T&amp;index=41\n",
      "/watch?v=3m50EE8jeZA&amp;list=PLiZxWe0ejyv_hCE-YYaG1NtxjlIvQsG7T&amp;index=41\n",
      "/watch?v=1l0V9Sri-Hw&amp;list=PLiZxWe0ejyv_hCE-YYaG1NtxjlIvQsG7T&amp;index=42\n",
      "/watch?v=1l0V9Sri-Hw&amp;list=PLiZxWe0ejyv_hCE-YYaG1NtxjlIvQsG7T&amp;index=42\n",
      "/watch?v=CfZE56E0Uts&amp;list=PLiZxWe0ejyv_hCE-YYaG1NtxjlIvQsG7T&amp;index=43\n",
      "/watch?v=CfZE56E0Uts&amp;list=PLiZxWe0ejyv_hCE-YYaG1NtxjlIvQsG7T&amp;index=43\n",
      "/watch?v=pSFJh8lTNkU&amp;list=PLiZxWe0ejyv_hCE-YYaG1NtxjlIvQsG7T&amp;index=44\n",
      "/watch?v=pSFJh8lTNkU&amp;list=PLiZxWe0ejyv_hCE-YYaG1NtxjlIvQsG7T&amp;index=44\n",
      "/watch?v=1AWywH4OxcE&amp;list=PLiZxWe0ejyv_hCE-YYaG1NtxjlIvQsG7T&amp;index=45\n",
      "/watch?v=1AWywH4OxcE&amp;list=PLiZxWe0ejyv_hCE-YYaG1NtxjlIvQsG7T&amp;index=45\n",
      "/watch?v=Afb-nWeKakg&amp;list=PLiZxWe0ejyv_hCE-YYaG1NtxjlIvQsG7T&amp;index=46\n",
      "/watch?v=Afb-nWeKakg&amp;list=PLiZxWe0ejyv_hCE-YYaG1NtxjlIvQsG7T&amp;index=46\n",
      "/watch?v=ejvWEuMoNVw&amp;list=PLiZxWe0ejyv_hCE-YYaG1NtxjlIvQsG7T&amp;index=47\n",
      "/watch?v=ejvWEuMoNVw&amp;list=PLiZxWe0ejyv_hCE-YYaG1NtxjlIvQsG7T&amp;index=47\n",
      "/watch?v=tcXd3YohSFE&amp;list=PLiZxWe0ejyv_hCE-YYaG1NtxjlIvQsG7T&amp;index=48\n",
      "/watch?v=tcXd3YohSFE&amp;list=PLiZxWe0ejyv_hCE-YYaG1NtxjlIvQsG7T&amp;index=48\n",
      "/watch?v=8Zu6CGJjrrQ&amp;list=PLiZxWe0ejyv_hCE-YYaG1NtxjlIvQsG7T&amp;index=49\n",
      "/watch?v=8Zu6CGJjrrQ&amp;list=PLiZxWe0ejyv_hCE-YYaG1NtxjlIvQsG7T&amp;index=49\n",
      "/watch?v=jp2ggZ7s4OI&amp;list=PLiZxWe0ejyv_hCE-YYaG1NtxjlIvQsG7T&amp;index=50\n",
      "/watch?v=jp2ggZ7s4OI&amp;list=PLiZxWe0ejyv_hCE-YYaG1NtxjlIvQsG7T&amp;index=50\n",
      "/watch?v=e390alJS5ys&amp;list=PLiZxWe0ejyv_hCE-YYaG1NtxjlIvQsG7T&amp;index=51\n",
      "/watch?v=e390alJS5ys&amp;list=PLiZxWe0ejyv_hCE-YYaG1NtxjlIvQsG7T&amp;index=51\n",
      "/watch?v=_q33sHC_tYc&amp;list=PLiZxWe0ejyv_hCE-YYaG1NtxjlIvQsG7T&amp;index=52\n",
      "/watch?v=_q33sHC_tYc&amp;list=PLiZxWe0ejyv_hCE-YYaG1NtxjlIvQsG7T&amp;index=52\n",
      "/watch?v=g2YZdwgTR8M&amp;list=PLiZxWe0ejyv_hCE-YYaG1NtxjlIvQsG7T&amp;index=53\n",
      "/watch?v=g2YZdwgTR8M&amp;list=PLiZxWe0ejyv_hCE-YYaG1NtxjlIvQsG7T&amp;index=53\n",
      "/watch?v=xnSbHaIG4j4&amp;list=PLiZxWe0ejyv_hCE-YYaG1NtxjlIvQsG7T&amp;index=54\n",
      "/watch?v=xnSbHaIG4j4&amp;list=PLiZxWe0ejyv_hCE-YYaG1NtxjlIvQsG7T&amp;index=54\n",
      "/watch?v=70iDoDAAfyQ&amp;list=PLiZxWe0ejyv_hCE-YYaG1NtxjlIvQsG7T&amp;index=55\n",
      "/watch?v=70iDoDAAfyQ&amp;list=PLiZxWe0ejyv_hCE-YYaG1NtxjlIvQsG7T&amp;index=55\n",
      "/watch?v=MZj1bQtRNdk&amp;list=PLiZxWe0ejyv_hCE-YYaG1NtxjlIvQsG7T&amp;index=56\n",
      "/watch?v=MZj1bQtRNdk&amp;list=PLiZxWe0ejyv_hCE-YYaG1NtxjlIvQsG7T&amp;index=56\n",
      "/watch?v=lojb-a5VZK0&amp;list=PLiZxWe0ejyv_hCE-YYaG1NtxjlIvQsG7T&amp;index=57\n",
      "/watch?v=lojb-a5VZK0&amp;list=PLiZxWe0ejyv_hCE-YYaG1NtxjlIvQsG7T&amp;index=57\n",
      "/watch?v=NpCF7GXCtuM&amp;list=PLiZxWe0ejyv_hCE-YYaG1NtxjlIvQsG7T&amp;index=58\n",
      "/watch?v=NpCF7GXCtuM&amp;list=PLiZxWe0ejyv_hCE-YYaG1NtxjlIvQsG7T&amp;index=58\n",
      "/watch?v=-i3E0b_wU18&amp;list=PLiZxWe0ejyv_hCE-YYaG1NtxjlIvQsG7T&amp;index=59\n",
      "/watch?v=-i3E0b_wU18&amp;list=PLiZxWe0ejyv_hCE-YYaG1NtxjlIvQsG7T&amp;index=59\n",
      "/watch?v=qUBWEMEPxDw&amp;list=PLiZxWe0ejyv_hCE-YYaG1NtxjlIvQsG7T&amp;index=60\n",
      "/watch?v=qUBWEMEPxDw&amp;list=PLiZxWe0ejyv_hCE-YYaG1NtxjlIvQsG7T&amp;index=60\n",
      "/watch?v=1tU9XdzQOf0&amp;list=PLiZxWe0ejyv_hCE-YYaG1NtxjlIvQsG7T&amp;index=61\n",
      "/watch?v=1tU9XdzQOf0&amp;list=PLiZxWe0ejyv_hCE-YYaG1NtxjlIvQsG7T&amp;index=61\n",
      "/watch?v=RdRVJbgezdU&amp;list=PLiZxWe0ejyv_hCE-YYaG1NtxjlIvQsG7T&amp;index=62\n",
      "/watch?v=RdRVJbgezdU&amp;list=PLiZxWe0ejyv_hCE-YYaG1NtxjlIvQsG7T&amp;index=62\n",
      "/watch?v=AxfbcSqwzRQ&amp;list=PLiZxWe0ejyv_hCE-YYaG1NtxjlIvQsG7T&amp;index=63\n",
      "/watch?v=AxfbcSqwzRQ&amp;list=PLiZxWe0ejyv_hCE-YYaG1NtxjlIvQsG7T&amp;index=63\n",
      "/watch?v=Nnowpe7Scro&amp;list=PLiZxWe0ejyv_hCE-YYaG1NtxjlIvQsG7T&amp;index=64\n",
      "/watch?v=Nnowpe7Scro&amp;list=PLiZxWe0ejyv_hCE-YYaG1NtxjlIvQsG7T&amp;index=64\n",
      "/watch?v=ua1jbS-je8I&amp;list=PLiZxWe0ejyv_hCE-YYaG1NtxjlIvQsG7T&amp;index=65\n",
      "/watch?v=ua1jbS-je8I&amp;list=PLiZxWe0ejyv_hCE-YYaG1NtxjlIvQsG7T&amp;index=65\n",
      "/watch?v=a2xVrQg1E8E&amp;list=PLiZxWe0ejyv_hCE-YYaG1NtxjlIvQsG7T&amp;index=66\n",
      "/watch?v=a2xVrQg1E8E&amp;list=PLiZxWe0ejyv_hCE-YYaG1NtxjlIvQsG7T&amp;index=66\n",
      "/watch?v=SHSgB6QO1Yo&amp;list=PLiZxWe0ejyv_hCE-YYaG1NtxjlIvQsG7T&amp;index=67\n",
      "/watch?v=SHSgB6QO1Yo&amp;list=PLiZxWe0ejyv_hCE-YYaG1NtxjlIvQsG7T&amp;index=67\n",
      "/watch?v=jeJHrIqWsNw&amp;list=PLiZxWe0ejyv_hCE-YYaG1NtxjlIvQsG7T&amp;index=68\n",
      "/watch?v=jeJHrIqWsNw&amp;list=PLiZxWe0ejyv_hCE-YYaG1NtxjlIvQsG7T&amp;index=68\n",
      "/watch?v=c6RVKCqGhCM&amp;list=PLiZxWe0ejyv_hCE-YYaG1NtxjlIvQsG7T&amp;index=69\n",
      "/watch?v=c6RVKCqGhCM&amp;list=PLiZxWe0ejyv_hCE-YYaG1NtxjlIvQsG7T&amp;index=69\n",
      "/watch?v=oeujW-xj3Yo&amp;list=PLiZxWe0ejyv_hCE-YYaG1NtxjlIvQsG7T&amp;index=70\n",
      "/watch?v=oeujW-xj3Yo&amp;list=PLiZxWe0ejyv_hCE-YYaG1NtxjlIvQsG7T&amp;index=70\n",
      "/watch?v=HGwxBPy73-c&amp;list=PLiZxWe0ejyv_hCE-YYaG1NtxjlIvQsG7T&amp;index=71\n",
      "/watch?v=HGwxBPy73-c&amp;list=PLiZxWe0ejyv_hCE-YYaG1NtxjlIvQsG7T&amp;index=71\n",
      "/watch?v=ruWSO6vYKXQ&amp;list=PLiZxWe0ejyv_hCE-YYaG1NtxjlIvQsG7T&amp;index=72\n",
      "/watch?v=ruWSO6vYKXQ&amp;list=PLiZxWe0ejyv_hCE-YYaG1NtxjlIvQsG7T&amp;index=72\n",
      "/watch?v=Gyo7sqYBR2M&amp;list=PLiZxWe0ejyv_hCE-YYaG1NtxjlIvQsG7T&amp;index=73\n",
      "/watch?v=Gyo7sqYBR2M&amp;list=PLiZxWe0ejyv_hCE-YYaG1NtxjlIvQsG7T&amp;index=73\n",
      "/watch?v=z3qN-BU1b2M&amp;list=PLiZxWe0ejyv_hCE-YYaG1NtxjlIvQsG7T&amp;index=74\n",
      "/watch?v=z3qN-BU1b2M&amp;list=PLiZxWe0ejyv_hCE-YYaG1NtxjlIvQsG7T&amp;index=74\n",
      "/watch?v=Ks2v3LSd29U&amp;list=PLiZxWe0ejyv_hCE-YYaG1NtxjlIvQsG7T&amp;index=75\n",
      "/watch?v=Ks2v3LSd29U&amp;list=PLiZxWe0ejyv_hCE-YYaG1NtxjlIvQsG7T&amp;index=75\n",
      "/watch?v=TrZEWhrs2_U&amp;list=PLiZxWe0ejyv_hCE-YYaG1NtxjlIvQsG7T&amp;index=76\n",
      "/watch?v=TrZEWhrs2_U&amp;list=PLiZxWe0ejyv_hCE-YYaG1NtxjlIvQsG7T&amp;index=76\n",
      "/watch?v=nmWqwKkaGjw&amp;list=PLiZxWe0ejyv_hCE-YYaG1NtxjlIvQsG7T&amp;index=77\n",
      "/watch?v=nmWqwKkaGjw&amp;list=PLiZxWe0ejyv_hCE-YYaG1NtxjlIvQsG7T&amp;index=77\n",
      "/watch?v=3e57Ajc0gs4&amp;list=PLiZxWe0ejyv_hCE-YYaG1NtxjlIvQsG7T&amp;index=78\n",
      "/watch?v=3e57Ajc0gs4&amp;list=PLiZxWe0ejyv_hCE-YYaG1NtxjlIvQsG7T&amp;index=78\n",
      "/watch?v=0Oo0RcL4PJw&amp;list=PLiZxWe0ejyv_hCE-YYaG1NtxjlIvQsG7T&amp;index=79\n",
      "/watch?v=0Oo0RcL4PJw&amp;list=PLiZxWe0ejyv_hCE-YYaG1NtxjlIvQsG7T&amp;index=79\n",
      "/watch?v=_LPR7DktumA&amp;list=PLiZxWe0ejyv_hCE-YYaG1NtxjlIvQsG7T&amp;index=80\n",
      "/watch?v=_LPR7DktumA&amp;list=PLiZxWe0ejyv_hCE-YYaG1NtxjlIvQsG7T&amp;index=80\n",
      "/watch?v=0DaJGhJz7SY&amp;list=PLiZxWe0ejyv_hCE-YYaG1NtxjlIvQsG7T&amp;index=81\n",
      "/watch?v=0DaJGhJz7SY&amp;list=PLiZxWe0ejyv_hCE-YYaG1NtxjlIvQsG7T&amp;index=81\n",
      "/watch?v=gugqFyij_Cs&amp;list=PLiZxWe0ejyv_hCE-YYaG1NtxjlIvQsG7T&amp;index=82\n",
      "/watch?v=gugqFyij_Cs&amp;list=PLiZxWe0ejyv_hCE-YYaG1NtxjlIvQsG7T&amp;index=82\n",
      "/watch?v=R8kLIaiU5Uo&amp;list=PLiZxWe0ejyv_hCE-YYaG1NtxjlIvQsG7T&amp;index=83\n",
      "/watch?v=R8kLIaiU5Uo&amp;list=PLiZxWe0ejyv_hCE-YYaG1NtxjlIvQsG7T&amp;index=83\n",
      "/watch?v=kRsRUIPoW4E&amp;list=PLiZxWe0ejyv_hCE-YYaG1NtxjlIvQsG7T&amp;index=84\n",
      "/watch?v=kRsRUIPoW4E&amp;list=PLiZxWe0ejyv_hCE-YYaG1NtxjlIvQsG7T&amp;index=84\n",
      "/watch?v=UHxz4DyidLA&amp;list=PLiZxWe0ejyv_hCE-YYaG1NtxjlIvQsG7T&amp;index=85\n",
      "/watch?v=UHxz4DyidLA&amp;list=PLiZxWe0ejyv_hCE-YYaG1NtxjlIvQsG7T&amp;index=85\n",
      "/watch?v=JxQKYgw9G2k&amp;list=PLiZxWe0ejyv_hCE-YYaG1NtxjlIvQsG7T&amp;index=86\n",
      "/watch?v=JxQKYgw9G2k&amp;list=PLiZxWe0ejyv_hCE-YYaG1NtxjlIvQsG7T&amp;index=86\n",
      "/watch?v=-Kt94MbzLd4&amp;list=PLiZxWe0ejyv_hCE-YYaG1NtxjlIvQsG7T&amp;index=87\n",
      "/watch?v=-Kt94MbzLd4&amp;list=PLiZxWe0ejyv_hCE-YYaG1NtxjlIvQsG7T&amp;index=87\n",
      "/watch?v=gSNKPj6fZUg&amp;list=PLiZxWe0ejyv_hCE-YYaG1NtxjlIvQsG7T&amp;index=88\n",
      "/watch?v=gSNKPj6fZUg&amp;list=PLiZxWe0ejyv_hCE-YYaG1NtxjlIvQsG7T&amp;index=88\n",
      "/watch?v=1zLWx8brlng&amp;list=PLiZxWe0ejyv_hCE-YYaG1NtxjlIvQsG7T&amp;index=89\n",
      "/watch?v=1zLWx8brlng&amp;list=PLiZxWe0ejyv_hCE-YYaG1NtxjlIvQsG7T&amp;index=89\n",
      "/watch?v=izP3RnrNJx4&amp;list=PLiZxWe0ejyv_hCE-YYaG1NtxjlIvQsG7T&amp;index=90\n",
      "/watch?v=izP3RnrNJx4&amp;list=PLiZxWe0ejyv_hCE-YYaG1NtxjlIvQsG7T&amp;index=90\n",
      "/watch?v=uSASN36T2Zw&amp;list=PLiZxWe0ejyv_hCE-YYaG1NtxjlIvQsG7T&amp;index=91\n",
      "/watch?v=uSASN36T2Zw&amp;list=PLiZxWe0ejyv_hCE-YYaG1NtxjlIvQsG7T&amp;index=91\n",
      "/watch?v=b-lECokU2no&amp;list=PLiZxWe0ejyv_hCE-YYaG1NtxjlIvQsG7T&amp;index=92\n",
      "/watch?v=b-lECokU2no&amp;list=PLiZxWe0ejyv_hCE-YYaG1NtxjlIvQsG7T&amp;index=92\n",
      "/watch?v=5iqg_vOKnZI&amp;list=PLiZxWe0ejyv_hCE-YYaG1NtxjlIvQsG7T&amp;index=93\n",
      "/watch?v=5iqg_vOKnZI&amp;list=PLiZxWe0ejyv_hCE-YYaG1NtxjlIvQsG7T&amp;index=93\n",
      "/watch?v=6kD4xfJyuR0&amp;list=PLiZxWe0ejyv_hCE-YYaG1NtxjlIvQsG7T&amp;index=94\n",
      "/watch?v=6kD4xfJyuR0&amp;list=PLiZxWe0ejyv_hCE-YYaG1NtxjlIvQsG7T&amp;index=94\n",
      "/watch?v=ktr9MYFdadc&amp;list=PLiZxWe0ejyv_hCE-YYaG1NtxjlIvQsG7T&amp;index=95\n",
      "/watch?v=ktr9MYFdadc&amp;list=PLiZxWe0ejyv_hCE-YYaG1NtxjlIvQsG7T&amp;index=95\n",
      "/watch?v=T9xoVdRgDiU&amp;list=PLiZxWe0ejyv_hCE-YYaG1NtxjlIvQsG7T&amp;index=96\n",
      "/watch?v=T9xoVdRgDiU&amp;list=PLiZxWe0ejyv_hCE-YYaG1NtxjlIvQsG7T&amp;index=96\n",
      "/watch?v=gpteVrjBgwI&amp;list=PLiZxWe0ejyv_hCE-YYaG1NtxjlIvQsG7T&amp;index=97\n",
      "/watch?v=gpteVrjBgwI&amp;list=PLiZxWe0ejyv_hCE-YYaG1NtxjlIvQsG7T&amp;index=97\n",
      "/watch?v=RwjjTBvOnYo&amp;list=PLiZxWe0ejyv_hCE-YYaG1NtxjlIvQsG7T&amp;index=98\n",
      "/watch?v=RwjjTBvOnYo&amp;list=PLiZxWe0ejyv_hCE-YYaG1NtxjlIvQsG7T&amp;index=98\n",
      "/watch?v=60kn1weBK8M&amp;list=PLiZxWe0ejyv_hCE-YYaG1NtxjlIvQsG7T&amp;index=99\n",
      "/watch?v=60kn1weBK8M&amp;list=PLiZxWe0ejyv_hCE-YYaG1NtxjlIvQsG7T&amp;index=99\n",
      "/watch?v=EtOrgQioo5A&amp;list=PLiZxWe0ejyv_hCE-YYaG1NtxjlIvQsG7T&amp;index=100\n",
      "/watch?v=EtOrgQioo5A&amp;list=PLiZxWe0ejyv_hCE-YYaG1NtxjlIvQsG7T&amp;index=100\n"
     ]
    }
   ],
   "source": [
    "for line in H:\n",
    "    match=P.search(line)\n",
    "    if match:\n",
    "        print match.group(1)"
   ]
  },
  {
   "cell_type": "code",
   "execution_count": 12,
   "metadata": {
    "collapsed": true
   },
   "outputs": [],
   "source": [
    "line='    <a class=\"pl-video-title-link yt-uix-tile-link yt-uix-sessionlink  spf-link \" dir=\"ltr\" href=\"/watch?v=V2ND2suEhSE&amp;list=PLiZxWe0ejyv_hCE-YYaG1NtxjlIvQsG7T&amp;index=1\" data-sessionlink=\"ei=lsFQV7jRDMzv-gPPyJOwBg&amp;feature=plpp_video&amp;ved=CDIQxjQYACITCLj0mO-_is0CFcy3fgodT-QEZij6LA\">'"
   ]
  },
  {
   "cell_type": "code",
   "execution_count": 31,
   "metadata": {
    "collapsed": false
   },
   "outputs": [
    {
     "name": "stdout",
     "output_type": "stream",
     "text": [
      "<_sre.SRE_Match object at 0x106336030>\n"
     ]
    }
   ],
   "source": [
    "match=re.search('href=\\\"(/watch\\?v=[^\"]*)\\\"',line)\n",
    "#match=re.search('href=\\\"/watch',line)\n",
    "print match"
   ]
  },
  {
   "cell_type": "code",
   "execution_count": 32,
   "metadata": {
    "collapsed": false
   },
   "outputs": [
    {
     "data": {
      "text/plain": [
       "'/watch?v=V2ND2suEhSE&amp;list=PLiZxWe0ejyv_hCE-YYaG1NtxjlIvQsG7T&amp;index=1'"
      ]
     },
     "execution_count": 32,
     "metadata": {},
     "output_type": "execute_result"
    }
   ],
   "source": [
    "match.group(1)"
   ]
  },
  {
   "cell_type": "markdown",
   "metadata": {},
   "source": [
    "As it turns outm you need only one URL for the playlist and youtube-dl will download all of the videos."
   ]
  },
  {
   "cell_type": "code",
   "execution_count": 41,
   "metadata": {
    "collapsed": false
   },
   "outputs": [
    {
     "name": "stdout",
     "output_type": "stream",
     "text": [
      "ColbertTrimmed.mp4\r\n",
      "John Stuart and Trump.mp4\r\n",
      "Keep On Rockin' On The Late Show-oFWNh7PyjJM.mp4\r\n",
      "Poached Salmon Is Made Out Of... Salmon-V2ND2suEhSE.mp4\r\n",
      "RIP Victoria's Secret Catalogue-425T7Pn3fy4.mp4\r\n",
      "Robot Truckers Are Coming-O4txobgrUYs.mp4\r\n",
      "There Are Worse Things Than Starbucks Spelling Your Name Right-muBZk76UuRk.mp4\r\n"
     ]
    }
   ],
   "source": [
    "!mkdir videos\n",
    "!ls *.mp4\n"
   ]
  },
  {
   "cell_type": "code",
   "execution_count": 1,
   "metadata": {
    "collapsed": false
   },
   "outputs": [
    {
     "name": "stdout",
     "output_type": "stream",
     "text": [
      "/Users/yoavfreund/projects/facesAnalysis/videos\n",
      "[youtube:playlist] Downloading playlist PLiZxWe0ejyv_hCE-YYaG1NtxjlIvQsG7T - add --no-playlist to just download video NpCF7GXCtuM\n",
      "[youtube:playlist] PLiZxWe0ejyv_hCE-YYaG1NtxjlIvQsG7T: Downloading webpage\n",
      "[download] Downloading playlist: From the Desk\n",
      "[youtube:playlist] PLiZxWe0ejyv_hCE-YYaG1NtxjlIvQsG7T: Downloading page #1\n",
      "[youtube:playlist] playlist From the Desk: Downloading 188 videos\n",
      "[download] Downloading video 1 of 188\n",
      "[youtube] V2ND2suEhSE: Downloading webpage\n",
      "[youtube] V2ND2suEhSE: Downloading video info webpage\n",
      "[youtube] V2ND2suEhSE: Extracting video information\n",
      "[youtube] V2ND2suEhSE: Downloading MPD manifest\n",
      "[download] Destination: Poached Salmon Is Made Out Of... Salmon-V2ND2suEhSE.mp4\n",
      "\u001b[K[download] 100% of 28.25MiB in 00:05\n",
      "[download] Downloading video 2 of 188\n",
      "[youtube] O4txobgrUYs: Downloading webpage\n",
      "[youtube] O4txobgrUYs: Downloading video info webpage\n",
      "[youtube] O4txobgrUYs: Extracting video information\n",
      "[youtube] O4txobgrUYs: Downloading MPD manifest\n",
      "[download] Destination: Robot Truckers Are Coming-O4txobgrUYs.mp4\n",
      "\u001b[K[download] 100% of 34.78MiB in 00:05\n",
      "[download] Downloading video 3 of 188\n",
      "[youtube] 425T7Pn3fy4: Downloading webpage\n",
      "[youtube] 425T7Pn3fy4: Downloading video info webpage\n",
      "[youtube] 425T7Pn3fy4: Extracting video information\n",
      "[youtube] 425T7Pn3fy4: Downloading MPD manifest\n",
      "[download] Destination: RIP Victoria's Secret Catalogue-425T7Pn3fy4.mp4\n",
      "\u001b[K[download]  51.3% of 23.38MiB at  6.37MiB/s ETA 00:01^C\n",
      "ERROR: Interrupted by user\n",
      "\n"
     ]
    }
   ],
   "source": [
    "%cd videos/\n",
    "!youtube-dl \"https://www.youtube.com/watch?v=NpCF7GXCtuM&amp;list=PLiZxWe0ejyv_hCE-YYaG1NtxjlIvQsG7T&amp;index=58\""
   ]
  },
  {
   "cell_type": "code",
   "execution_count": null,
   "metadata": {
    "collapsed": true
   },
   "outputs": [],
   "source": []
  },
  {
   "cell_type": "code",
   "execution_count": null,
   "metadata": {
    "collapsed": true
   },
   "outputs": [],
   "source": []
  }
 ],
 "metadata": {
  "kernelspec": {
   "display_name": "Python 2",
   "language": "python",
   "name": "python2"
  },
  "language_info": {
   "codemirror_mode": {
    "name": "ipython",
    "version": 2
   },
   "file_extension": ".py",
   "mimetype": "text/x-python",
   "name": "python",
   "nbconvert_exporter": "python",
   "pygments_lexer": "ipython2",
   "version": "2.7.11"
  }
 },
 "nbformat": 4,
 "nbformat_minor": 0
}
